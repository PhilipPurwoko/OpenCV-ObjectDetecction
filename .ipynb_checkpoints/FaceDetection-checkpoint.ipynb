{
 "cells": [
  {
   "cell_type": "code",
   "execution_count": 1,
   "metadata": {},
   "outputs": [],
   "source": [
    "import cv2\n",
    "import matplotlib.pyplot as plt\n",
    "%matplotlib inline"
   ]
  },
  {
   "cell_type": "code",
   "execution_count": 2,
   "metadata": {},
   "outputs": [],
   "source": [
    "face_cascade = cv2.CascadeClassifier('haarcascade_frontalface_default.xml')"
   ]
  },
  {
   "cell_type": "code",
   "execution_count": 3,
   "metadata": {},
   "outputs": [],
   "source": [
    "def detectFace(img,gray_img):\n",
    "    image = img.copy()\n",
    "    face = face_cascade.detectMultiScale(gray,scaleFactor=1.2,minNeighbors=5)\n",
    "    for (x,y,w,h) in face:\n",
    "        cv2.rectangle(image,(x,y),(x+w,y+h),(0,255,0),5)\n",
    "    return image"
   ]
  },
  {
   "cell_type": "code",
   "execution_count": 4,
   "metadata": {},
   "outputs": [],
   "source": [
    "videoCapture = cv2.VideoCapture(0)\n",
    "while True:\n",
    "    _,frame = videoCapture.read()\n",
    "    gray = cv2.cvtColor(frame.copy(),cv2.COLOR_BGR2GRAY)\n",
    "    \n",
    "    cv2.imshow('Camera',detectFace(frame,gray))\n",
    "    if cv2.waitKey(1) == 27:\n",
    "        break\n",
    "videoCapture.release()\n",
    "cv2.destroyAllWindows()"
   ]
  },
  {
   "cell_type": "code",
   "execution_count": null,
   "metadata": {},
   "outputs": [],
   "source": []
  }
 ],
 "metadata": {
  "kernelspec": {
   "display_name": "Python 3",
   "language": "python",
   "name": "python3"
  },
  "language_info": {
   "codemirror_mode": {
    "name": "ipython",
    "version": 3
   },
   "file_extension": ".py",
   "mimetype": "text/x-python",
   "name": "python",
   "nbconvert_exporter": "python",
   "pygments_lexer": "ipython3",
   "version": "3.7.7"
  }
 },
 "nbformat": 4,
 "nbformat_minor": 4
}
