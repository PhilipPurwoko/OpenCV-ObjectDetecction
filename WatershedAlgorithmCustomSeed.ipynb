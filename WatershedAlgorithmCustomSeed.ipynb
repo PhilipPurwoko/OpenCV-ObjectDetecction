{
 "cells": [
  {
   "cell_type": "code",
   "execution_count": 19,
   "metadata": {},
   "outputs": [],
   "source": [
    "import cv2\n",
    "import numpy as np\n",
    "import matplotlib.pyplot as plt\n",
    "from matplotlib import cm as cmap\n",
    "%matplotlib inline"
   ]
  },
  {
   "cell_type": "code",
   "execution_count": 39,
   "metadata": {},
   "outputs": [],
   "source": [
    "def ResizeWithAspectRatio(image, width=None, height=None, inter=cv2.INTER_AREA):\n",
    "        dim = None\n",
    "        (h, w) = image.shape[:2]\n",
    "\n",
    "        if width is None and height is None:\n",
    "            return image\n",
    "        if width is None:\n",
    "            r = height / float(h)\n",
    "            dim = (int(w * r), height)\n",
    "        else:\n",
    "            r = width / float(w)\n",
    "            dim = (width, int(h * r))\n",
    "        return cv2.resize(image, dim, interpolation=inter)"
   ]
  },
  {
   "cell_type": "code",
   "execution_count": 38,
   "metadata": {},
   "outputs": [],
   "source": [
    "# Load image\n",
    "image = cv2.imread('Images/road.jpg')\n",
    "if image.shape[0] > 700:\n",
    "    image = ResizeWithAspectRatio(image,height=600)\n",
    "elif image.shape[1] > 700:\n",
    "    image = ResizeWithAspectRatio(image,width=600)\n",
    "image_copied = image.copy()"
   ]
  },
  {
   "cell_type": "code",
   "execution_count": 42,
   "metadata": {},
   "outputs": [],
   "source": [
    "# Segment for drawing using watershed algorithm\n",
    "segments = np.zeros(image.shape,dtype=np.uint8)"
   ]
  },
  {
   "cell_type": "code",
   "execution_count": 43,
   "metadata": {},
   "outputs": [],
   "source": [
    "# Draw marker color on original image\n",
    "marker = np.zeros(image.shape[:2],dtype=np.int32)"
   ]
  },
  {
   "cell_type": "code",
   "execution_count": 44,
   "metadata": {},
   "outputs": [],
   "source": [
    "# Use ColorMap\n",
    "colors = []\n",
    "for i in range(10):\n",
    "    # Convert color range to 0-255\n",
    "    colors.append(tuple(np.array(cmap.tab10(i)[:3])*255))"
   ]
  },
  {
   "cell_type": "code",
   "execution_count": 41,
   "metadata": {},
   "outputs": [],
   "source": [
    "def mouse_callback(event,x,y,flags,param):\n",
    "    global marker_updated\n",
    "    if event == cv2.EVENT_LBUTTONDOWN:\n",
    "        # Draw circle on mouse left click\n",
    "        cv2.circle(marker,(x,y),10,(marker_now),-1)\n",
    "        cv2.circle(image_copied,(x,y),10,colors[marker_now],-1)\n",
    "\n",
    "        marker_updated = True"
   ]
  },
  {
   "cell_type": "code",
   "execution_count": 45,
   "metadata": {},
   "outputs": [],
   "source": [
    "marker_updated = False\n",
    "marker_now = 1"
   ]
  },
  {
   "cell_type": "code",
   "execution_count": 48,
   "metadata": {},
   "outputs": [],
   "source": [
    "cv2.namedWindow('Image')\n",
    "cv2.setMouseCallback('Image',mouse_callback)\n",
    "\n",
    "while True:\n",
    "    # Display 2 windows\n",
    "    cv2.imshow('Image',image_copied)\n",
    "    cv2.imshow('Watershed Algorithm',segments)\n",
    "\n",
    "    key_pressed = cv2.waitKeyEx(1)\n",
    "    if key_pressed == 27:\n",
    "        break\n",
    "    elif key_pressed == ord('c'):\n",
    "        image_copied = image.copy()\n",
    "        marker = np.zeros(image.shape[:2],dtype=np.int32)\n",
    "        segments = np.zeros(image.shape,dtype=np.uint8)\n",
    "    elif key_pressed > 0 and chr(key_pressed).isdigit():\n",
    "        marker_now = int(chr(key_pressed))\n",
    "\n",
    "    if marker_updated:\n",
    "        # Apply wathershed algorithm\n",
    "        marker_copied = marker.copy()\n",
    "        cv2.watershed(image,marker_copied)\n",
    "        segments = np.zeros(image.shape,dtype=np.uint8)\n",
    "\n",
    "        for color in range(10):\n",
    "            segments[marker_copied == (color)] = colors[color]\n",
    "cv2.destroyAllWindows()"
   ]
  },
  {
   "cell_type": "code",
   "execution_count": null,
   "metadata": {},
   "outputs": [],
   "source": []
  }
 ],
 "metadata": {
  "kernelspec": {
   "display_name": "Python 3",
   "language": "python",
   "name": "python3"
  },
  "language_info": {
   "codemirror_mode": {
    "name": "ipython",
    "version": 3
   },
   "file_extension": ".py",
   "mimetype": "text/x-python",
   "name": "python",
   "nbconvert_exporter": "python",
   "pygments_lexer": "ipython3",
   "version": "3.7.7"
  }
 },
 "nbformat": 4,
 "nbformat_minor": 4
}
